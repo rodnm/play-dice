{
  "nbformat": 4,
  "nbformat_minor": 0,
  "metadata": {
    "colab": {
      "provenance": []
    },
    "kernelspec": {
      "name": "python3",
      "display_name": "Python 3"
    },
    "language_info": {
      "name": "python"
    }
  },
  "cells": [
    {
      "cell_type": "markdown",
      "source": [
        "# PLAY DICE!"
      ],
      "metadata": {
        "id": "yqRMGi9c2uex"
      }
    },
    {
      "cell_type": "code",
      "execution_count": 3,
      "metadata": {
        "colab": {
          "base_uri": "https://localhost:8080/"
        },
        "id": "bP-CTeSD2rj4",
        "outputId": "291e24fe-7d63-45d9-e38b-59b88b82935f"
      },
      "outputs": [
        {
          "output_type": "stream",
          "name": "stdout",
          "text": [
            "Here we just Play Dice!\n",
            "The Values are :\n",
            "4\n",
            "4\n",
            "It's never too late, our journey's just begun!\n",
            "Before giving in show them your best try!\n",
            "Roll again? y\n",
            "Here we just Play Dice!\n",
            "The Values are :\n",
            "3\n",
            "6\n",
            "https://youtu.be/na6bysYNuS0\n",
            "WHATCHU DOING BRUH\n",
            "GO OUT AND LIVE YOUR LIFE!\n",
            "Roll again? no\n",
            "K. BYE!\n"
          ]
        }
      ],
      "source": [
        "import random\n",
        "import webbrowser\n",
        "\n",
        "min_val = 1\n",
        "max_val = 6\n",
        "\n",
        "roll_again = \"yes\"\n",
        "\n",
        "while roll_again.lower() in (\"yes\", \"y\", \"si\"):\n",
        "    print(\"Here we just Play Dice!\")\n",
        "    print(\"The Values are :\")\n",
        "\n",
        "    dice1 = random.randint(min_val, max_val)\n",
        "    dice2 = random.randint(min_val, max_val)\n",
        "\n",
        "    print(dice1)\n",
        "    print(dice2)\n",
        "\n",
        "    if dice1 == 6 or dice2 == 6:\n",
        "        webbrowser.open(\"https://youtu.be/na6bysYNuS0\")\n",
        "        print(\"https://youtu.be/na6bysYNuS0\")\n",
        "        print(\"WHATCHU DOING BRUH\")\n",
        "        print(\"GO OUT AND LIVE YOUR LIFE!\")\n",
        "    else:\n",
        "        print(\"It's never too late, our journey's just begun!\")\n",
        "        print(\"Before giving in show them your best try!\")\n",
        "    roll_again = input(\"Roll again? \")\n",
        "\n",
        "print(\"K. BYE!\")\n"
      ]
    }
  ]
}